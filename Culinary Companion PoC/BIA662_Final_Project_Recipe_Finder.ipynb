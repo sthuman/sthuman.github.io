{
 "cells": [
  {
   "cell_type": "code",
   "execution_count": 44,
   "id": "67e75f1d",
   "metadata": {},
   "outputs": [],
   "source": [
    "import pandas as pd\n",
    "import numpy as np\n",
    "import re\n",
    "from fuzzywuzzy import process\n",
    "import ast\n",
    "import tensorflow as tf"
   ]
  },
  {
   "cell_type": "code",
   "execution_count": 46,
   "id": "be26ca17",
   "metadata": {},
   "outputs": [],
   "source": [
    "# Import recipes dataset\n",
    "path = \"C:/Users/sarah/OneDrive/Desktop/Grad School/BIA-662 (Augmented Intelligence and Gen AI)/Final Project/RAW_recipes.csv/\"\n",
    "recipes = pd.read_csv(path+\"RAW_recipes.csv\")"
   ]
  },
  {
   "cell_type": "code",
   "execution_count": 47,
   "id": "395fb385",
   "metadata": {},
   "outputs": [
    {
     "data": {
      "text/plain": [
       "name                 1\n",
       "id                   0\n",
       "minutes              0\n",
       "contributor_id       0\n",
       "submitted            0\n",
       "tags               109\n",
       "nutrition            0\n",
       "n_steps              0\n",
       "steps                1\n",
       "description       4979\n",
       "ingredients          0\n",
       "n_ingredients        0\n",
       "dtype: int64"
      ]
     },
     "execution_count": 47,
     "metadata": {},
     "output_type": "execute_result"
    }
   ],
   "source": [
    "# Check for missing values in the dataset\n",
    "recipes.isnull().sum()"
   ]
  },
  {
   "cell_type": "code",
   "execution_count": 48,
   "id": "dbe400eb",
   "metadata": {},
   "outputs": [],
   "source": [
    "# drop rows with missing values\n",
    "clean_recipes = recipes.dropna(axis=0)"
   ]
  },
  {
   "cell_type": "code",
   "execution_count": 49,
   "id": "e58d417c",
   "metadata": {},
   "outputs": [
    {
     "data": {
      "text/plain": [
       "name              0\n",
       "id                0\n",
       "minutes           0\n",
       "contributor_id    0\n",
       "submitted         0\n",
       "tags              0\n",
       "nutrition         0\n",
       "n_steps           0\n",
       "steps             0\n",
       "description       0\n",
       "ingredients       0\n",
       "n_ingredients     0\n",
       "dtype: int64"
      ]
     },
     "execution_count": 49,
     "metadata": {},
     "output_type": "execute_result"
    }
   ],
   "source": [
    "# Check for missing values after dropping rows\n",
    "clean_recipes.isnull().sum()"
   ]
  },
  {
   "cell_type": "markdown",
   "id": "e7620aa5-4381-44e6-89aa-69ef45f070ab",
   "metadata": {},
   "source": [
    "# IBM Watson Assitant Chatbot"
   ]
  },
  {
   "cell_type": "code",
   "execution_count": 51,
   "id": "d51eefb2-d3fe-4852-8ab1-4bdee6372635",
   "metadata": {},
   "outputs": [],
   "source": [
    "import json\n",
    "import ibm_watson\n",
    "from ibm_watson import AssistantV2\n",
    "from ibm_cloud_sdk_core.authenticators import IAMAuthenticator"
   ]
  },
  {
   "cell_type": "code",
   "execution_count": 52,
   "id": "5dbdac23-e123-4c36-aee2-3b5f99dc039a",
   "metadata": {},
   "outputs": [],
   "source": [
    "def ChefSourWhiskersBot():\n",
    "    # Create an IAM authenticator\n",
    "    authenticator = IAMAuthenticator('B2I0oCVKm-5ZZsLEF5RGB9EqMrVC6w677RitlxRY4G3C') # put our API key here\n",
    "\n",
    "    # Create session with the Watson Assistant\n",
    "    assistant = AssistantV2(\n",
    "        version='2024-06-18',\n",
    "        authenticator=authenticator\n",
    "    )\n",
    "\n",
    "    # Set the service URL\n",
    "    assistant.set_service_url('https://api.us-east.assistant.watson.cloud.ibm.com/instances/77c47b93-e26c-420b-bfde-64d0142d7ca9')  # Adjust the URL to the correct region of our chatbot\n",
    "\n",
    "    # Assign our assitant ID\n",
    "    assistant_id = 'fe0c833f-6d69-4eff-9cb5-6b39faad49a8' # put our assitant id here\n",
    "\n",
    "    # Create a session id\n",
    "    session = assistant.create_session(assistant_id=assistant_id).get_result()\n",
    "    session_id = session['session_id']\n",
    "    \n",
    "    # Pull the first prompt from the Dialog\n",
    "    response = assistant.message(\n",
    "            assistant_id=assistant_id,\n",
    "            session_id=session_id).get_result()\n",
    "\n",
    "    # Continue prompting the user and getting their input, until they indicate\n",
    "    # it's time to quit\n",
    "    while True:\n",
    "\n",
    "        # Get the text of the prompt\n",
    "        prompt = response.get(\"output\").get(\"text\")\n",
    "  \n",
    "        # Display all of the text provided in the prompt\n",
    "        for text in prompt:\n",
    "            print(text)\n",
    " \n",
    "        # Get the user's next utterance\n",
    "        utterance = input(\"==> \")\n",
    "\n",
    "        # Invoke Watson to assess the intent of the utterance and determine how\n",
    "        # to respond to the user\n",
    "        response = assistant.message(\n",
    "                workspace_id='...', # put specific workspace_id here\n",
    "                input={'text': utterance},\n",
    "                context=response.get(\"context\")).get_result()\n",
    "\n",
    "        # Ensure there are intents in the response.\n",
    "        if len(response.get(\"intents\")) > 0:\n",
    "            \n",
    "            #Check whether the dialog indicates an end to the conversation\n",
    "            if response[\"intents\"][0][\"intent\"] == \"General_Ending\":\n",
    "                if len(response.get(\"output\").get(\"text\")) > 0:\n",
    "                    # If there are any remaining messages in the response then\n",
    "                    # print them out.\n",
    "                    print(response.get(\"output\").get(\"text\")[0] + '\\n')\n",
    "                    # And terminate the conversation.\n",
    "                    break"
   ]
  },
  {
   "cell_type": "code",
   "execution_count": 38,
   "id": "2a217004-5729-4e5a-897c-ce10b234e1d1",
   "metadata": {},
   "outputs": [
    {
     "ename": "ApiException",
     "evalue": "Error: Resource not found, Status code: 404 , X-global-transaction-id: 48058510-2530-4b53-b146-749414480439",
     "output_type": "error",
     "traceback": [
      "\u001b[1;31m---------------------------------------------------------------------------\u001b[0m",
      "\u001b[1;31mApiException\u001b[0m                              Traceback (most recent call last)",
      "Cell \u001b[1;32mIn[38], line 2\u001b[0m\n\u001b[0;32m      1\u001b[0m \u001b[38;5;66;03m# Call ChefBot\u001b[39;00m\n\u001b[1;32m----> 2\u001b[0m ChefBot()\n",
      "Cell \u001b[1;32mIn[36], line 18\u001b[0m, in \u001b[0;36mChefBot\u001b[1;34m()\u001b[0m\n\u001b[0;32m     15\u001b[0m assistant_id \u001b[38;5;241m=\u001b[39m \u001b[38;5;124m'\u001b[39m\u001b[38;5;124mfe0c833f-6d69-4eff-9cb5-6b39faad49a8\u001b[39m\u001b[38;5;124m'\u001b[39m \u001b[38;5;66;03m# put our assitant id here\u001b[39;00m\n\u001b[0;32m     17\u001b[0m \u001b[38;5;66;03m# Create a session id\u001b[39;00m\n\u001b[1;32m---> 18\u001b[0m session \u001b[38;5;241m=\u001b[39m assistant\u001b[38;5;241m.\u001b[39mcreate_session(assistant_id\u001b[38;5;241m=\u001b[39massistant_id)\u001b[38;5;241m.\u001b[39mget_result()\n\u001b[0;32m     19\u001b[0m session_id \u001b[38;5;241m=\u001b[39m session[\u001b[38;5;124m'\u001b[39m\u001b[38;5;124msession_id\u001b[39m\u001b[38;5;124m'\u001b[39m]\n\u001b[0;32m     21\u001b[0m \u001b[38;5;66;03m# Pull the first prompt from the Dialog\u001b[39;00m\n",
      "File \u001b[1;32m~\\anaconda3\\Lib\\site-packages\\ibm_watson\\assistant_v2.py:352\u001b[0m, in \u001b[0;36mAssistantV2.create_session\u001b[1;34m(self, assistant_id, analytics, **kwargs)\u001b[0m\n\u001b[0;32m    343\u001b[0m url \u001b[38;5;241m=\u001b[39m \u001b[38;5;124m'\u001b[39m\u001b[38;5;124m/v2/assistants/\u001b[39m\u001b[38;5;132;01m{assistant_id}\u001b[39;00m\u001b[38;5;124m/sessions\u001b[39m\u001b[38;5;124m'\u001b[39m\u001b[38;5;241m.\u001b[39mformat(\u001b[38;5;241m*\u001b[39m\u001b[38;5;241m*\u001b[39mpath_param_dict)\n\u001b[0;32m    344\u001b[0m request \u001b[38;5;241m=\u001b[39m \u001b[38;5;28mself\u001b[39m\u001b[38;5;241m.\u001b[39mprepare_request(\n\u001b[0;32m    345\u001b[0m     method\u001b[38;5;241m=\u001b[39m\u001b[38;5;124m'\u001b[39m\u001b[38;5;124mPOST\u001b[39m\u001b[38;5;124m'\u001b[39m,\n\u001b[0;32m    346\u001b[0m     url\u001b[38;5;241m=\u001b[39murl,\n\u001b[1;32m   (...)\u001b[0m\n\u001b[0;32m    349\u001b[0m     data\u001b[38;5;241m=\u001b[39mdata,\n\u001b[0;32m    350\u001b[0m )\n\u001b[1;32m--> 352\u001b[0m response \u001b[38;5;241m=\u001b[39m \u001b[38;5;28mself\u001b[39m\u001b[38;5;241m.\u001b[39msend(request, \u001b[38;5;241m*\u001b[39m\u001b[38;5;241m*\u001b[39mkwargs)\n\u001b[0;32m    353\u001b[0m \u001b[38;5;28;01mreturn\u001b[39;00m response\n",
      "File \u001b[1;32m~\\anaconda3\\Lib\\site-packages\\ibm_cloud_sdk_core\\base_service.py:345\u001b[0m, in \u001b[0;36mBaseService.send\u001b[1;34m(self, request, **kwargs)\u001b[0m\n\u001b[0;32m    342\u001b[0m         \u001b[38;5;28;01mreturn\u001b[39;00m DetailedResponse(response\u001b[38;5;241m=\u001b[39mresult, headers\u001b[38;5;241m=\u001b[39mresponse\u001b[38;5;241m.\u001b[39mheaders, status_code\u001b[38;5;241m=\u001b[39mresponse\u001b[38;5;241m.\u001b[39mstatus_code)\n\u001b[0;32m    344\u001b[0m     \u001b[38;5;66;03m# Received error status code from server, raise an APIException.\u001b[39;00m\n\u001b[1;32m--> 345\u001b[0m     \u001b[38;5;28;01mraise\u001b[39;00m ApiException(response\u001b[38;5;241m.\u001b[39mstatus_code, http_response\u001b[38;5;241m=\u001b[39mresponse)\n\u001b[0;32m    346\u001b[0m \u001b[38;5;28;01mexcept\u001b[39;00m requests\u001b[38;5;241m.\u001b[39mexceptions\u001b[38;5;241m.\u001b[39mSSLError:\n\u001b[0;32m    347\u001b[0m     logger\u001b[38;5;241m.\u001b[39mexception(\u001b[38;5;28mself\u001b[39m\u001b[38;5;241m.\u001b[39mERROR_MSG_DISABLE_SSL)\n",
      "\u001b[1;31mApiException\u001b[0m: Error: Resource not found, Status code: 404 , X-global-transaction-id: 48058510-2530-4b53-b146-749414480439"
     ]
    }
   ],
   "source": [
    "# Call ChefBot\n",
    "ChefSourWhiskersBot()"
   ]
  },
  {
   "cell_type": "markdown",
   "id": "5421c7c3-a759-4ac7-aa25-091c9e2dc2ed",
   "metadata": {},
   "source": [
    "# Main Code"
   ]
  },
  {
   "cell_type": "code",
   "execution_count": 59,
   "id": "e7eaabbe",
   "metadata": {},
   "outputs": [],
   "source": [
    "# split ingedients column into separate ingedients\n",
    "## RENAME SO THAT IT APPLIES TO MULTIPLE COLUMNS NOT JUST INGREDIENTS\n",
    "def split_ingredients(ingredients_string):\n",
    "    return re.split(r'\\s*\\,\\s*', ingredients_string)"
   ]
  },
  {
   "cell_type": "code",
   "execution_count": 61,
   "id": "6ba62660",
   "metadata": {
    "scrolled": true
   },
   "outputs": [
    {
     "name": "stderr",
     "output_type": "stream",
     "text": [
      "C:\\Users\\sarah\\AppData\\Local\\Temp\\ipykernel_8956\\3909361735.py:2: SettingWithCopyWarning: \n",
      "A value is trying to be set on a copy of a slice from a DataFrame.\n",
      "Try using .loc[row_indexer,col_indexer] = value instead\n",
      "\n",
      "See the caveats in the documentation: https://pandas.pydata.org/pandas-docs/stable/user_guide/indexing.html#returning-a-view-versus-a-copy\n",
      "  clean_recipes['ingredient_list'] = clean_recipes['ingredients'].apply(split_ingredients)\n"
     ]
    }
   ],
   "source": [
    "# create new column with list of ingredients\n",
    "clean_recipes['ingredient_list'] = clean_recipes['ingredients'].apply(split_ingredients)"
   ]
  },
  {
   "cell_type": "code",
   "execution_count": 62,
   "id": "edf17c57-b2a3-44fe-b3d4-7b8691c27369",
   "metadata": {},
   "outputs": [
    {
     "name": "stderr",
     "output_type": "stream",
     "text": [
      "C:\\Users\\sarah\\AppData\\Local\\Temp\\ipykernel_8956\\2484037311.py:2: SettingWithCopyWarning: \n",
      "A value is trying to be set on a copy of a slice from a DataFrame.\n",
      "Try using .loc[row_indexer,col_indexer] = value instead\n",
      "\n",
      "See the caveats in the documentation: https://pandas.pydata.org/pandas-docs/stable/user_guide/indexing.html#returning-a-view-versus-a-copy\n",
      "  clean_recipes['tag_list'] = clean_recipes['tags'].apply(split_ingredients)\n"
     ]
    }
   ],
   "source": [
    "# create new column with list of ingredients\n",
    "clean_recipes['tag_list'] = clean_recipes['tags'].apply(split_ingredients)"
   ]
  },
  {
   "cell_type": "code",
   "execution_count": 63,
   "id": "e2c81aef",
   "metadata": {},
   "outputs": [],
   "source": [
    "# dictionary to store ingredient counts\n",
    "ingredient_counts = {}\n",
    "# dictionary to store recipes containing each ingredient\n",
    "recipes_with_ingredient = {}\n",
    "\n",
    "for index, row in clean_recipes.iterrows():\n",
    "    recipe_name = row['name']\n",
    "    # Split the ingredient string into a list\n",
    "    ingredients = [ing.strip() for ing in row['ingredients'].split(',')]\n",
    "    \n",
    "    for ingredient in ingredients:\n",
    "        # Update ingredient count\n",
    "        ingredient = ingredient.lower().strip()\n",
    "        ingredient_counts[ingredient] = ingredient_counts.get(ingredient, 0) + 1\n",
    "        \n",
    "        # Update recipes containing this ingredient\n",
    "        if ingredient not in recipes_with_ingredient:\n",
    "            recipes_with_ingredient[ingredient] = set()\n",
    "        recipes_with_ingredient[ingredient].add(recipe_name)"
   ]
  },
  {
   "cell_type": "code",
   "execution_count": 65,
   "id": "d00159c3",
   "metadata": {},
   "outputs": [],
   "source": [
    "# dictionary to store ingredient counts\n",
    "tag_counts = {}\n",
    "# dictionary to store recipes containing each ingredient\n",
    "recipes_with_tags = {}\n",
    "\n",
    "for index, row in clean_recipes.iterrows():\n",
    "    recipe_name = row['name']\n",
    "    # Split the ingredient string into a list\n",
    "    tags = [tag.strip() for tag in row['tags'].split(',')]\n",
    "    \n",
    "    for tag in tags:\n",
    "        # Update ingredient count\n",
    "        tag = tag.lower().strip()\n",
    "        tag_counts[tag] = tag_counts.get(tag, 0) + 1\n",
    "        \n",
    "        # Update recipes containing this ingredient\n",
    "        if tag not in recipes_with_tags:\n",
    "            recipes_with_tags[tag] = set()\n",
    "        recipes_with_tags[tag].add(recipe_name)"
   ]
  },
  {
   "cell_type": "code",
   "execution_count": 66,
   "id": "9f0c14d8-013e-45da-a9d7-1d113568eee9",
   "metadata": {},
   "outputs": [],
   "source": [
    "def find_recipes_with_ingredients(ingredients, tags, max_cooking_time, similarity_threshold=70):\n",
    "    if not ingredients or not tags:\n",
    "        print(\"Both ingredients and tags must be provided.\")\n",
    "        return pd.DataFrame()\n",
    "\n",
    "    ingredients = [ingredient.lower() for ingredient in ingredients]\n",
    "    tags = [tag.lower() for tag in tags]\n",
    "\n",
    "    def fuzzy_match(item, choices, threshold):\n",
    "        matches = process.extractBests(item, choices, score_cutoff=threshold)\n",
    "        return set(match[0] for match in matches)\n",
    "\n",
    "    matching_recipes = set(clean_recipes['name'])\n",
    "    matching_tags = set(clean_recipes['name'])\n",
    "\n",
    "    # Find recipes with all ingredients\n",
    "    if ingredients:\n",
    "        all_ingredients = set(recipes_with_ingredient.keys())\n",
    "        for ingredient in ingredients:\n",
    "            fuzzy_matches = fuzzy_match(ingredient, all_ingredients, similarity_threshold)\n",
    "            ingredient_recipes = set().union(*(recipes_with_ingredient.get(match, set()) for match in fuzzy_matches))\n",
    "            matching_recipes = matching_recipes.intersection(ingredient_recipes)\n",
    "\n",
    "    # Find recipes with all tags\n",
    "    if tags:\n",
    "        all_tags = set(recipes_with_tags.keys())\n",
    "        for tag in tags:\n",
    "            fuzzy_matches = fuzzy_match(tag, all_tags, similarity_threshold)\n",
    "            tag_recipes = set().union(*(recipes_with_tags.get(match, set()) for match in fuzzy_matches))\n",
    "            matching_tags = matching_tags.intersection(tag_recipes)\n",
    "\n",
    "    # Find the intersection of recipes with matching ingredients and tags\n",
    "    final_matches = matching_recipes.intersection(matching_tags)\n",
    "    if not final_matches:\n",
    "        print(\"No recipes match both ingredients and tags criteria.\")\n",
    "        return pd.DataFrame()\n",
    "    print(f'Number of matching recipes: {len(final_matches)}')\n",
    "    # Filter by cooking time using the DataFrame\n",
    "    matching_df = clean_recipes[\n",
    "        (clean_recipes['name'].isin(final_matches)) & \n",
    "        (clean_recipes['minutes'] <= max_cooking_time)\n",
    "    ]\n",
    "\n",
    "    # Print results\n",
    "    if not matching_df.empty:\n",
    "        print(f\"\\nRecipes containing {', '.join(ingredients)} meeting requirements {', '.join(tags)} and cooking time <= {max_cooking_time} minutes:\")\n",
    "        for _, row in matching_df.iterrows():\n",
    "            print(f\"{row['name']} (Cooking time: {row['minutes']} minutes)\")\n",
    "    else:\n",
    "        print(f\"\\nNo recipes found containing all of these ingredients: {', '.join(ingredients)} with these requirements: {', '.join(tags)} and cooking time <= {max_cooking_time} minutes\")\n",
    "\n",
    "    return matching_df"
   ]
  },
  {
   "cell_type": "code",
   "execution_count": 91,
   "id": "76584088",
   "metadata": {},
   "outputs": [
    {
     "name": "stdout",
     "output_type": "stream",
     "text": [
      "Number of matching recipes: 33\n",
      "\n",
      "Recipes containing chicken breast, broccoli meeting requirements dinner and cooking time <= 60 minutes:\n",
      "basil chicken with broccoli (Cooking time: 15 minutes)\n",
      "broccoli   chicken with hoisin sauce (Cooking time: 10 minutes)\n",
      "broccoli chicken dish  gluten free (Cooking time: 55 minutes)\n",
      "cheesy broccoli bacon chicken casserole (Cooking time: 45 minutes)\n",
      "cheesy chicken   broccoli casserole (Cooking time: 35 minutes)\n",
      "chicken   broccoli casserole    all time fav (Cooking time: 45 minutes)\n",
      "chicken and broccoli pasta (Cooking time: 50 minutes)\n",
      "chicken and broccoli rice casserole (Cooking time: 45 minutes)\n",
      "chicken tortellini casserole (Cooking time: 38 minutes)\n",
      "chicken  broccoli   angel hair pasta (Cooking time: 40 minutes)\n",
      "chicken vegetable casserole (Cooking time: 50 minutes)\n",
      "christopher s teriyaki stir fry (Cooking time: 40 minutes)\n",
      "creamy chicken noodle casserole (Cooking time: 60 minutes)\n",
      "easy chicken gumbo (Cooking time: 25 minutes)\n",
      "garlic chicken   voila copycat (Cooking time: 20 minutes)\n",
      "grilled chicken and veggies with sauces by rachael ray (Cooking time: 40 minutes)\n",
      "indiana garden stir fry (Cooking time: 60 minutes)\n",
      "italian pasta dish (Cooking time: 50 minutes)\n",
      "lemon chicken and broccoli (Cooking time: 18 minutes)\n",
      "no yolks noodles and chicken teriyaki (Cooking time: 30 minutes)\n",
      "perfect pasta (Cooking time: 20 minutes)\n",
      "quick chicken mushroom and broccoli stir fry (Cooking time: 30 minutes)\n",
      "spicy szechuan orange chicken   ww (Cooking time: 30 minutes)\n",
      "stir fry crazy spaghetti (Cooking time: 15 minutes)\n",
      "sweet and sour chicken and broccoli (Cooking time: 21 minutes)\n"
     ]
    }
   ],
   "source": [
    "#Example usage:\n",
    "all_matching_recipes = find_recipes_with_ingredients(['chicken breast','broccoli'],['dinner'],60)"
   ]
  },
  {
   "cell_type": "code",
   "execution_count": 93,
   "id": "669be373-6fab-491e-9039-066c86e2a1f3",
   "metadata": {},
   "outputs": [],
   "source": [
    "suggested_recipes = all_matching_recipes.sort_values(by=['n_steps']).head(3)"
   ]
  },
  {
   "cell_type": "code",
   "execution_count": 95,
   "id": "3787115e-3e91-4f9a-9da1-74f865a5334c",
   "metadata": {
    "scrolled": true
   },
   "outputs": [
    {
     "data": {
      "text/html": [
       "<div>\n",
       "<style scoped>\n",
       "    .dataframe tbody tr th:only-of-type {\n",
       "        vertical-align: middle;\n",
       "    }\n",
       "\n",
       "    .dataframe tbody tr th {\n",
       "        vertical-align: top;\n",
       "    }\n",
       "\n",
       "    .dataframe thead th {\n",
       "        text-align: right;\n",
       "    }\n",
       "</style>\n",
       "<table border=\"1\" class=\"dataframe\">\n",
       "  <thead>\n",
       "    <tr style=\"text-align: right;\">\n",
       "      <th></th>\n",
       "      <th>name</th>\n",
       "      <th>id</th>\n",
       "      <th>minutes</th>\n",
       "      <th>contributor_id</th>\n",
       "      <th>submitted</th>\n",
       "      <th>tags</th>\n",
       "      <th>nutrition</th>\n",
       "      <th>n_steps</th>\n",
       "      <th>steps</th>\n",
       "      <th>description</th>\n",
       "      <th>ingredients</th>\n",
       "      <th>n_ingredients</th>\n",
       "      <th>ingredient_list</th>\n",
       "      <th>tag_list</th>\n",
       "    </tr>\n",
       "  </thead>\n",
       "  <tbody>\n",
       "    <tr>\n",
       "      <th>46105</th>\n",
       "      <td>chicken tortellini casserole</td>\n",
       "      <td>232122</td>\n",
       "      <td>38</td>\n",
       "      <td>485637</td>\n",
       "      <td>6/4/2007</td>\n",
       "      <td>60-minutes-or-less, time-to-make, course, main...</td>\n",
       "      <td>816.1, 47.0, 11.0, 25.0, 134.0, 53.0, 22.0</td>\n",
       "      <td>4</td>\n",
       "      <td>cook tortellini for 8 minutes, combine all ing...</td>\n",
       "      <td>simple dinner for a busy life.</td>\n",
       "      <td>tortellini, broccoli, alfredo sauce, chicken b...</td>\n",
       "      <td>4</td>\n",
       "      <td>[tortellini, broccoli, alfredo sauce, chicken ...</td>\n",
       "      <td>[60-minutes-or-less, time-to-make, course, mai...</td>\n",
       "    </tr>\n",
       "    <tr>\n",
       "      <th>40167</th>\n",
       "      <td>cheesy chicken   broccoli casserole</td>\n",
       "      <td>157120</td>\n",
       "      <td>35</td>\n",
       "      <td>115853</td>\n",
       "      <td>2/22/2006</td>\n",
       "      <td>60-minutes-or-less, time-to-make, course, main...</td>\n",
       "      <td>260.3, 26.0, 8.0, 29.0, 34.0, 40.0, 3.0</td>\n",
       "      <td>5</td>\n",
       "      <td>preheat oven to 350, place all ingredients in ...</td>\n",
       "      <td>just threw this together one night with what i...</td>\n",
       "      <td>chicken breast, cream of mushroom soup, brocco...</td>\n",
       "      <td>4</td>\n",
       "      <td>[chicken breast, cream of mushroom soup, brocc...</td>\n",
       "      <td>[60-minutes-or-less, time-to-make, course, mai...</td>\n",
       "    </tr>\n",
       "    <tr>\n",
       "      <th>158388</th>\n",
       "      <td>perfect pasta</td>\n",
       "      <td>215664</td>\n",
       "      <td>20</td>\n",
       "      <td>341170</td>\n",
       "      <td>3/8/2007</td>\n",
       "      <td>30-minutes-or-less, time-to-make, course, main...</td>\n",
       "      <td>458.7, 17.0, 81.0, 23.0, 49.0, 13.0, 22.0</td>\n",
       "      <td>6</td>\n",
       "      <td>cook pasta according to package directions, ad...</td>\n",
       "      <td>taken from a mom and me cookbook. i haven't tr...</td>\n",
       "      <td>pasta, broccoli, chicken breasts, corn, green ...</td>\n",
       "      <td>9</td>\n",
       "      <td>[pasta, broccoli, chicken breasts, corn, green...</td>\n",
       "      <td>[30-minutes-or-less, time-to-make, course, mai...</td>\n",
       "    </tr>\n",
       "  </tbody>\n",
       "</table>\n",
       "</div>"
      ],
      "text/plain": [
       "                                       name      id  minutes  contributor_id  \\\n",
       "46105          chicken tortellini casserole  232122       38          485637   \n",
       "40167   cheesy chicken   broccoli casserole  157120       35          115853   \n",
       "158388                        perfect pasta  215664       20          341170   \n",
       "\n",
       "        submitted                                               tags  \\\n",
       "46105    6/4/2007  60-minutes-or-less, time-to-make, course, main...   \n",
       "40167   2/22/2006  60-minutes-or-less, time-to-make, course, main...   \n",
       "158388   3/8/2007  30-minutes-or-less, time-to-make, course, main...   \n",
       "\n",
       "                                         nutrition  n_steps  \\\n",
       "46105   816.1, 47.0, 11.0, 25.0, 134.0, 53.0, 22.0        4   \n",
       "40167      260.3, 26.0, 8.0, 29.0, 34.0, 40.0, 3.0        5   \n",
       "158388   458.7, 17.0, 81.0, 23.0, 49.0, 13.0, 22.0        6   \n",
       "\n",
       "                                                    steps  \\\n",
       "46105   cook tortellini for 8 minutes, combine all ing...   \n",
       "40167   preheat oven to 350, place all ingredients in ...   \n",
       "158388  cook pasta according to package directions, ad...   \n",
       "\n",
       "                                              description  \\\n",
       "46105                      simple dinner for a busy life.   \n",
       "40167   just threw this together one night with what i...   \n",
       "158388  taken from a mom and me cookbook. i haven't tr...   \n",
       "\n",
       "                                              ingredients  n_ingredients  \\\n",
       "46105   tortellini, broccoli, alfredo sauce, chicken b...              4   \n",
       "40167   chicken breast, cream of mushroom soup, brocco...              4   \n",
       "158388  pasta, broccoli, chicken breasts, corn, green ...              9   \n",
       "\n",
       "                                          ingredient_list  \\\n",
       "46105   [tortellini, broccoli, alfredo sauce, chicken ...   \n",
       "40167   [chicken breast, cream of mushroom soup, brocc...   \n",
       "158388  [pasta, broccoli, chicken breasts, corn, green...   \n",
       "\n",
       "                                                 tag_list  \n",
       "46105   [60-minutes-or-less, time-to-make, course, mai...  \n",
       "40167   [60-minutes-or-less, time-to-make, course, mai...  \n",
       "158388  [30-minutes-or-less, time-to-make, course, mai...  "
      ]
     },
     "execution_count": 95,
     "metadata": {},
     "output_type": "execute_result"
    }
   ],
   "source": [
    "suggested_recipes"
   ]
  }
 ],
 "metadata": {
  "kernelspec": {
   "display_name": "Python 3 (ipykernel)",
   "language": "python",
   "name": "python3"
  },
  "language_info": {
   "codemirror_mode": {
    "name": "ipython",
    "version": 3
   },
   "file_extension": ".py",
   "mimetype": "text/x-python",
   "name": "python",
   "nbconvert_exporter": "python",
   "pygments_lexer": "ipython3",
   "version": "3.12.4"
  }
 },
 "nbformat": 4,
 "nbformat_minor": 5
}
